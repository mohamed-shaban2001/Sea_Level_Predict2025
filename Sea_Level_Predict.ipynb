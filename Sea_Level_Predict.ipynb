{
 "cells": [
  {
   "cell_type": "markdown",
   "id": "6f250eb3",
   "metadata": {},
   "source": [
    "# Import libraries"
   ]
  },
  {
   "cell_type": "code",
   "execution_count": 43,
   "id": "f871b802",
   "metadata": {},
   "outputs": [],
   "source": [
    "import pandas as pd\n",
    "import numpy as np\n",
    "import matplotlib.pyplot as plt\n",
    "import seaborn as sns\n",
    "import os"
   ]
  },
  {
   "cell_type": "markdown",
   "id": "f4407f8e",
   "metadata": {},
   "source": [
    "## read the dataset"
   ]
  },
  {
   "cell_type": "code",
   "execution_count": 329,
   "id": "9dcbd5c6",
   "metadata": {},
   "outputs": [],
   "source": [
    "data = pd.read_csv('E:\\\\python for data science\\\\data analysis projects\\\\New folder\\\\sea_levels_Predict2025.csv')"
   ]
  },
  {
   "cell_type": "code",
   "execution_count": 330,
   "id": "2d60dae1",
   "metadata": {
    "scrolled": false
   },
   "outputs": [
    {
     "data": {
      "text/html": [
       "<div>\n",
       "<style scoped>\n",
       "    .dataframe tbody tr th:only-of-type {\n",
       "        vertical-align: middle;\n",
       "    }\n",
       "\n",
       "    .dataframe tbody tr th {\n",
       "        vertical-align: top;\n",
       "    }\n",
       "\n",
       "    .dataframe thead th {\n",
       "        text-align: right;\n",
       "    }\n",
       "</style>\n",
       "<table border=\"1\" class=\"dataframe\">\n",
       "  <thead>\n",
       "    <tr style=\"text-align: right;\">\n",
       "      <th></th>\n",
       "      <th>Time</th>\n",
       "      <th>GMSL</th>\n",
       "      <th>GMSL Uncertainty</th>\n",
       "    </tr>\n",
       "  </thead>\n",
       "  <tbody>\n",
       "    <tr>\n",
       "      <th>0</th>\n",
       "      <td>1880-01-15</td>\n",
       "      <td>-183.0</td>\n",
       "      <td>24.2</td>\n",
       "    </tr>\n",
       "    <tr>\n",
       "      <th>1</th>\n",
       "      <td>1880-02-15</td>\n",
       "      <td>-171.1</td>\n",
       "      <td>24.2</td>\n",
       "    </tr>\n",
       "    <tr>\n",
       "      <th>2</th>\n",
       "      <td>1880-03-15</td>\n",
       "      <td>-164.3</td>\n",
       "      <td>24.2</td>\n",
       "    </tr>\n",
       "    <tr>\n",
       "      <th>3</th>\n",
       "      <td>1880-04-15</td>\n",
       "      <td>-158.2</td>\n",
       "      <td>24.2</td>\n",
       "    </tr>\n",
       "    <tr>\n",
       "      <th>4</th>\n",
       "      <td>1880-05-15</td>\n",
       "      <td>-158.7</td>\n",
       "      <td>24.2</td>\n",
       "    </tr>\n",
       "    <tr>\n",
       "      <th>5</th>\n",
       "      <td>1880-06-15</td>\n",
       "      <td>-159.6</td>\n",
       "      <td>24.2</td>\n",
       "    </tr>\n",
       "    <tr>\n",
       "      <th>6</th>\n",
       "      <td>1880-07-15</td>\n",
       "      <td>-159.6</td>\n",
       "      <td>24.2</td>\n",
       "    </tr>\n",
       "    <tr>\n",
       "      <th>7</th>\n",
       "      <td>1880-08-15</td>\n",
       "      <td>-161.8</td>\n",
       "      <td>24.2</td>\n",
       "    </tr>\n",
       "    <tr>\n",
       "      <th>8</th>\n",
       "      <td>1880-09-15</td>\n",
       "      <td>-158.9</td>\n",
       "      <td>24.2</td>\n",
       "    </tr>\n",
       "    <tr>\n",
       "      <th>9</th>\n",
       "      <td>1880-10-15</td>\n",
       "      <td>-150.3</td>\n",
       "      <td>24.2</td>\n",
       "    </tr>\n",
       "  </tbody>\n",
       "</table>\n",
       "</div>"
      ],
      "text/plain": [
       "         Time   GMSL  GMSL Uncertainty\n",
       "0  1880-01-15 -183.0              24.2\n",
       "1  1880-02-15 -171.1              24.2\n",
       "2  1880-03-15 -164.3              24.2\n",
       "3  1880-04-15 -158.2              24.2\n",
       "4  1880-05-15 -158.7              24.2\n",
       "5  1880-06-15 -159.6              24.2\n",
       "6  1880-07-15 -159.6              24.2\n",
       "7  1880-08-15 -161.8              24.2\n",
       "8  1880-09-15 -158.9              24.2\n",
       "9  1880-10-15 -150.3              24.2"
      ]
     },
     "execution_count": 330,
     "metadata": {},
     "output_type": "execute_result"
    }
   ],
   "source": [
    "data.head(10)\n",
    "# GMSL is a global mean sea level"
   ]
  },
  {
   "cell_type": "code",
   "execution_count": 5,
   "id": "c6b624c0",
   "metadata": {},
   "outputs": [
    {
     "data": {
      "image/png": "[encoded data removed]",
      "text/plain": [
       "<Figure size 432x288 with 1 Axes>"
      ]
     },
     "metadata": {
      "needs_background": "light"
     },
     "output_type": "display_data"
    }
   ],
   "source": [
    "plt.scatter(x = data['Time'], y = data['GMSL'])\n",
    "plt.xlabel('Time',color = 'white')\n",
    "plt.ylabel('GMSL',color = 'white')\n",
    "plt.show()"
   ]
  },
  {
   "cell_type": "markdown",
   "id": "bc4ff861",
   "metadata": {},
   "source": [
    "# data preprocessing"
   ]
  },
  {
   "cell_type": "code",
   "execution_count": 331,
   "id": "964fd277",
   "metadata": {
    "scrolled": true
   },
   "outputs": [
    {
     "data": {
      "text/html": [
       "<div>\n",
       "<style scoped>\n",
       "    .dataframe tbody tr th:only-of-type {\n",
       "        vertical-align: middle;\n",
       "    }\n",
       "\n",
       "    .dataframe tbody tr th {\n",
       "        vertical-align: top;\n",
       "    }\n",
       "\n",
       "    .dataframe thead th {\n",
       "        text-align: right;\n",
       "    }\n",
       "</style>\n",
       "<table border=\"1\" class=\"dataframe\">\n",
       "  <thead>\n",
       "    <tr style=\"text-align: right;\">\n",
       "      <th></th>\n",
       "      <th>Time</th>\n",
       "      <th>GMSL</th>\n",
       "      <th>GMSL Uncertainty</th>\n",
       "    </tr>\n",
       "  </thead>\n",
       "  <tbody>\n",
       "    <tr>\n",
       "      <th>0</th>\n",
       "      <td>False</td>\n",
       "      <td>False</td>\n",
       "      <td>False</td>\n",
       "    </tr>\n",
       "    <tr>\n",
       "      <th>1</th>\n",
       "      <td>False</td>\n",
       "      <td>False</td>\n",
       "      <td>False</td>\n",
       "    </tr>\n",
       "    <tr>\n",
       "      <th>2</th>\n",
       "      <td>False</td>\n",
       "      <td>False</td>\n",
       "      <td>False</td>\n",
       "    </tr>\n",
       "    <tr>\n",
       "      <th>3</th>\n",
       "      <td>False</td>\n",
       "      <td>False</td>\n",
       "      <td>False</td>\n",
       "    </tr>\n",
       "    <tr>\n",
       "      <th>4</th>\n",
       "      <td>False</td>\n",
       "      <td>False</td>\n",
       "      <td>False</td>\n",
       "    </tr>\n",
       "    <tr>\n",
       "      <th>...</th>\n",
       "      <td>...</td>\n",
       "      <td>...</td>\n",
       "      <td>...</td>\n",
       "    </tr>\n",
       "    <tr>\n",
       "      <th>995</th>\n",
       "      <td>False</td>\n",
       "      <td>False</td>\n",
       "      <td>False</td>\n",
       "    </tr>\n",
       "    <tr>\n",
       "      <th>996</th>\n",
       "      <td>False</td>\n",
       "      <td>False</td>\n",
       "      <td>False</td>\n",
       "    </tr>\n",
       "    <tr>\n",
       "      <th>997</th>\n",
       "      <td>False</td>\n",
       "      <td>False</td>\n",
       "      <td>False</td>\n",
       "    </tr>\n",
       "    <tr>\n",
       "      <th>998</th>\n",
       "      <td>False</td>\n",
       "      <td>False</td>\n",
       "      <td>False</td>\n",
       "    </tr>\n",
       "    <tr>\n",
       "      <th>999</th>\n",
       "      <td>False</td>\n",
       "      <td>False</td>\n",
       "      <td>False</td>\n",
       "    </tr>\n",
       "  </tbody>\n",
       "</table>\n",
       "<p>1000 rows × 3 columns</p>\n",
       "</div>"
      ],
      "text/plain": [
       "      Time   GMSL  GMSL Uncertainty\n",
       "0    False  False             False\n",
       "1    False  False             False\n",
       "2    False  False             False\n",
       "3    False  False             False\n",
       "4    False  False             False\n",
       "..     ...    ...               ...\n",
       "995  False  False             False\n",
       "996  False  False             False\n",
       "997  False  False             False\n",
       "998  False  False             False\n",
       "999  False  False             False\n",
       "\n",
       "[1000 rows x 3 columns]"
      ]
     },
     "execution_count": 331,
     "metadata": {},
     "output_type": "execute_result"
    }
   ],
   "source": [
    "data.isnull()"
   ]
  },
  {
   "cell_type": "code",
   "execution_count": 332,
   "id": "5a94ce96",
   "metadata": {},
   "outputs": [],
   "source": [
    "import datetime"
   ]
  },
  {
   "cell_type": "code",
   "execution_count": 333,
   "id": "8c79a192",
   "metadata": {},
   "outputs": [
    {
     "data": {
      "text/plain": [
       "count           1000\n",
       "unique          1000\n",
       "top       1881-06-15\n",
       "freq               1\n",
       "Name: Time, dtype: object"
      ]
     },
     "execution_count": 333,
     "metadata": {},
     "output_type": "execute_result"
    }
   ],
   "source": [
    " data['Time'].describe()"
   ]
  },
  {
   "cell_type": "code",
   "execution_count": 334,
   "id": "b45fae46",
   "metadata": {
    "scrolled": true
   },
   "outputs": [
    {
     "name": "stdout",
     "output_type": "stream",
     "text": [
      "<class 'pandas.core.frame.DataFrame'>\n",
      "RangeIndex: 1000 entries, 0 to 999\n",
      "Data columns (total 3 columns):\n",
      " #   Column            Non-Null Count  Dtype  \n",
      "---  ------            --------------  -----  \n",
      " 0   Time              1000 non-null   object \n",
      " 1   GMSL              1000 non-null   float64\n",
      " 2   GMSL Uncertainty  1000 non-null   float64\n",
      "dtypes: float64(2), object(1)\n",
      "memory usage: 23.6+ KB\n",
      "None\n"
     ]
    }
   ],
   "source": [
    "print(data.info())"
   ]
  },
  {
   "cell_type": "code",
   "execution_count": 63,
   "id": "2422cefb",
   "metadata": {},
   "outputs": [],
   "source": [
    "#data1 = pd.to_datetime(datanew,errors = 'coerce', format = '%m/%d/%Y')\n",
    "#data2 = pd.to_datetime(data['Time'][241:],errors = 'coerce', format = '%Y-%m-%d')\n",
    "dates = data['Time'].apply(lambda x: pd.to_datetime(x).strftime('%m/%d/%Y'))"
   ]
  },
  {
   "cell_type": "code",
   "execution_count": 66,
   "id": "af5045c5",
   "metadata": {},
   "outputs": [],
   "source": [
    "data['Dates'] = dates"
   ]
  },
  {
   "cell_type": "code",
   "execution_count": 83,
   "id": "230d116b",
   "metadata": {},
   "outputs": [],
   "source": [
    "data.tail()\n",
    "#df = data.drop('New Times', axis = 1, inplace = True)\n",
    "df = data.drop('Time', axis = 1, inplace = True)"
   ]
  },
  {
   "cell_type": "code",
   "execution_count": 335,
   "id": "a8e989b4",
   "metadata": {
    "scrolled": true
   },
   "outputs": [
    {
     "data": {
      "text/html": [
       "<div>\n",
       "<style scoped>\n",
       "    .dataframe tbody tr th:only-of-type {\n",
       "        vertical-align: middle;\n",
       "    }\n",
       "\n",
       "    .dataframe tbody tr th {\n",
       "        vertical-align: top;\n",
       "    }\n",
       "\n",
       "    .dataframe thead th {\n",
       "        text-align: right;\n",
       "    }\n",
       "</style>\n",
       "<table border=\"1\" class=\"dataframe\">\n",
       "  <thead>\n",
       "    <tr style=\"text-align: right;\">\n",
       "      <th></th>\n",
       "      <th>Time</th>\n",
       "      <th>GMSL</th>\n",
       "      <th>GMSL Uncertainty</th>\n",
       "    </tr>\n",
       "  </thead>\n",
       "  <tbody>\n",
       "    <tr>\n",
       "      <th>0</th>\n",
       "      <td>1880-01-15</td>\n",
       "      <td>-183.0</td>\n",
       "      <td>24.2</td>\n",
       "    </tr>\n",
       "    <tr>\n",
       "      <th>1</th>\n",
       "      <td>1880-02-15</td>\n",
       "      <td>-171.1</td>\n",
       "      <td>24.2</td>\n",
       "    </tr>\n",
       "    <tr>\n",
       "      <th>2</th>\n",
       "      <td>1880-03-15</td>\n",
       "      <td>-164.3</td>\n",
       "      <td>24.2</td>\n",
       "    </tr>\n",
       "    <tr>\n",
       "      <th>3</th>\n",
       "      <td>1880-04-15</td>\n",
       "      <td>-158.2</td>\n",
       "      <td>24.2</td>\n",
       "    </tr>\n",
       "    <tr>\n",
       "      <th>4</th>\n",
       "      <td>1880-05-15</td>\n",
       "      <td>-158.7</td>\n",
       "      <td>24.2</td>\n",
       "    </tr>\n",
       "  </tbody>\n",
       "</table>\n",
       "</div>"
      ],
      "text/plain": [
       "         Time   GMSL  GMSL Uncertainty\n",
       "0  1880-01-15 -183.0              24.2\n",
       "1  1880-02-15 -171.1              24.2\n",
       "2  1880-03-15 -164.3              24.2\n",
       "3  1880-04-15 -158.2              24.2\n",
       "4  1880-05-15 -158.7              24.2"
      ]
     },
     "execution_count": 335,
     "metadata": {},
     "output_type": "execute_result"
    }
   ],
   "source": [
    "data.head()"
   ]
  },
  {
   "cell_type": "code",
   "execution_count": 340,
   "id": "ac94e4e2",
   "metadata": {},
   "outputs": [],
   "source": [
    "data['Time'] = pd.to_datetime(data['Time'])"
   ]
  },
  {
   "cell_type": "code",
   "execution_count": 341,
   "id": "071e4a0c",
   "metadata": {},
   "outputs": [],
   "source": [
    "#df['Year'] = df['Purchase Date'].dt.year\n",
    "data['Year'] = data['Time'].dt.year"
   ]
  },
  {
   "cell_type": "code",
   "execution_count": 342,
   "id": "653c7610",
   "metadata": {
    "scrolled": true
   },
   "outputs": [
    {
     "name": "stdout",
     "output_type": "stream",
     "text": [
      "995   1962-12-15\n",
      "996   1963-01-15\n",
      "997   1963-02-15\n",
      "998   1963-03-15\n",
      "999   1963-04-15\n",
      "Name: Time, dtype: datetime64[ns]\n"
     ]
    }
   ],
   "source": [
    "print(data['Time'].tail())"
   ]
  },
  {
   "cell_type": "code",
   "execution_count": 343,
   "id": "68bba8d6",
   "metadata": {
    "scrolled": false
   },
   "outputs": [
    {
     "data": {
      "text/html": [
       "<div>\n",
       "<style scoped>\n",
       "    .dataframe tbody tr th:only-of-type {\n",
       "        vertical-align: middle;\n",
       "    }\n",
       "\n",
       "    .dataframe tbody tr th {\n",
       "        vertical-align: top;\n",
       "    }\n",
       "\n",
       "    .dataframe thead th {\n",
       "        text-align: right;\n",
       "    }\n",
       "</style>\n",
       "<table border=\"1\" class=\"dataframe\">\n",
       "  <thead>\n",
       "    <tr style=\"text-align: right;\">\n",
       "      <th></th>\n",
       "      <th>Time</th>\n",
       "      <th>GMSL</th>\n",
       "      <th>GMSL Uncertainty</th>\n",
       "      <th>Year</th>\n",
       "    </tr>\n",
       "  </thead>\n",
       "  <tbody>\n",
       "    <tr>\n",
       "      <th>0</th>\n",
       "      <td>1880-01-15</td>\n",
       "      <td>-183.0</td>\n",
       "      <td>24.2</td>\n",
       "      <td>1880</td>\n",
       "    </tr>\n",
       "    <tr>\n",
       "      <th>1</th>\n",
       "      <td>1880-02-15</td>\n",
       "      <td>-171.1</td>\n",
       "      <td>24.2</td>\n",
       "      <td>1880</td>\n",
       "    </tr>\n",
       "    <tr>\n",
       "      <th>2</th>\n",
       "      <td>1880-03-15</td>\n",
       "      <td>-164.3</td>\n",
       "      <td>24.2</td>\n",
       "      <td>1880</td>\n",
       "    </tr>\n",
       "    <tr>\n",
       "      <th>3</th>\n",
       "      <td>1880-04-15</td>\n",
       "      <td>-158.2</td>\n",
       "      <td>24.2</td>\n",
       "      <td>1880</td>\n",
       "    </tr>\n",
       "    <tr>\n",
       "      <th>4</th>\n",
       "      <td>1880-05-15</td>\n",
       "      <td>-158.7</td>\n",
       "      <td>24.2</td>\n",
       "      <td>1880</td>\n",
       "    </tr>\n",
       "  </tbody>\n",
       "</table>\n",
       "</div>"
      ],
      "text/plain": [
       "        Time   GMSL  GMSL Uncertainty  Year\n",
       "0 1880-01-15 -183.0              24.2  1880\n",
       "1 1880-02-15 -171.1              24.2  1880\n",
       "2 1880-03-15 -164.3              24.2  1880\n",
       "3 1880-04-15 -158.2              24.2  1880\n",
       "4 1880-05-15 -158.7              24.2  1880"
      ]
     },
     "execution_count": 343,
     "metadata": {},
     "output_type": "execute_result"
    }
   ],
   "source": [
    "data.head()\n"
   ]
  },
  {
   "cell_type": "code",
   "execution_count": 344,
   "id": "6c782dc9",
   "metadata": {},
   "outputs": [],
   "source": [
    "#data_df['conv_date'] = data_df.date.apply(lambda x: x.toordinal())\n",
    "data['Test'] = data.Time.apply(lambda x: x.toordinal())"
   ]
  },
  {
   "cell_type": "code",
   "execution_count": 345,
   "id": "14554413",
   "metadata": {
    "scrolled": true
   },
   "outputs": [
    {
     "name": "stdout",
     "output_type": "stream",
     "text": [
      "<class 'pandas.core.frame.DataFrame'>\n",
      "RangeIndex: 1000 entries, 0 to 999\n",
      "Data columns (total 5 columns):\n",
      " #   Column            Non-Null Count  Dtype         \n",
      "---  ------            --------------  -----         \n",
      " 0   Time              1000 non-null   datetime64[ns]\n",
      " 1   GMSL              1000 non-null   float64       \n",
      " 2   GMSL Uncertainty  1000 non-null   float64       \n",
      " 3   Year              1000 non-null   int64         \n",
      " 4   Test              1000 non-null   int64         \n",
      "dtypes: datetime64[ns](1), float64(2), int64(2)\n",
      "memory usage: 39.2 KB\n"
     ]
    }
   ],
   "source": [
    "data.info()"
   ]
  },
  {
   "cell_type": "code",
   "execution_count": 348,
   "id": "01b11721",
   "metadata": {},
   "outputs": [
    {
     "data": {
      "text/html": [
       "<div>\n",
       "<style scoped>\n",
       "    .dataframe tbody tr th:only-of-type {\n",
       "        vertical-align: middle;\n",
       "    }\n",
       "\n",
       "    .dataframe tbody tr th {\n",
       "        vertical-align: top;\n",
       "    }\n",
       "\n",
       "    .dataframe thead th {\n",
       "        text-align: right;\n",
       "    }\n",
       "</style>\n",
       "<table border=\"1\" class=\"dataframe\">\n",
       "  <thead>\n",
       "    <tr style=\"text-align: right;\">\n",
       "      <th></th>\n",
       "      <th>Time</th>\n",
       "      <th>GMSL</th>\n",
       "      <th>GMSL Uncertainty</th>\n",
       "      <th>Year</th>\n",
       "      <th>Test</th>\n",
       "    </tr>\n",
       "  </thead>\n",
       "  <tbody>\n",
       "    <tr>\n",
       "      <th>0</th>\n",
       "      <td>1880-01-15</td>\n",
       "      <td>-183.0</td>\n",
       "      <td>24.2</td>\n",
       "      <td>1880</td>\n",
       "      <td>686305</td>\n",
       "    </tr>\n",
       "    <tr>\n",
       "      <th>1</th>\n",
       "      <td>1880-02-15</td>\n",
       "      <td>-171.1</td>\n",
       "      <td>24.2</td>\n",
       "      <td>1880</td>\n",
       "      <td>686336</td>\n",
       "    </tr>\n",
       "    <tr>\n",
       "      <th>2</th>\n",
       "      <td>1880-03-15</td>\n",
       "      <td>-164.3</td>\n",
       "      <td>24.2</td>\n",
       "      <td>1880</td>\n",
       "      <td>686365</td>\n",
       "    </tr>\n",
       "    <tr>\n",
       "      <th>3</th>\n",
       "      <td>1880-04-15</td>\n",
       "      <td>-158.2</td>\n",
       "      <td>24.2</td>\n",
       "      <td>1880</td>\n",
       "      <td>686396</td>\n",
       "    </tr>\n",
       "    <tr>\n",
       "      <th>4</th>\n",
       "      <td>1880-05-15</td>\n",
       "      <td>-158.7</td>\n",
       "      <td>24.2</td>\n",
       "      <td>1880</td>\n",
       "      <td>686426</td>\n",
       "    </tr>\n",
       "  </tbody>\n",
       "</table>\n",
       "</div>"
      ],
      "text/plain": [
       "        Time   GMSL  GMSL Uncertainty  Year    Test\n",
       "0 1880-01-15 -183.0              24.2  1880  686305\n",
       "1 1880-02-15 -171.1              24.2  1880  686336\n",
       "2 1880-03-15 -164.3              24.2  1880  686365\n",
       "3 1880-04-15 -158.2              24.2  1880  686396\n",
       "4 1880-05-15 -158.7              24.2  1880  686426"
      ]
     },
     "execution_count": 348,
     "metadata": {},
     "output_type": "execute_result"
    }
   ],
   "source": [
    "data.head()\n"
   ]
  },
  {
   "cell_type": "code",
   "execution_count": 104,
   "id": "017639f1",
   "metadata": {
    "scrolled": true
   },
   "outputs": [],
   "source": [
    "df = data.drop(['Dates', 'Time','Year'],axis = 1)"
   ]
  },
  {
   "cell_type": "code",
   "execution_count": 349,
   "id": "58e283d5",
   "metadata": {
    "scrolled": false
   },
   "outputs": [
    {
     "data": {
      "text/html": [
       "<div>\n",
       "<style scoped>\n",
       "    .dataframe tbody tr th:only-of-type {\n",
       "        vertical-align: middle;\n",
       "    }\n",
       "\n",
       "    .dataframe tbody tr th {\n",
       "        vertical-align: top;\n",
       "    }\n",
       "\n",
       "    .dataframe thead th {\n",
       "        text-align: right;\n",
       "    }\n",
       "</style>\n",
       "<table border=\"1\" class=\"dataframe\">\n",
       "  <thead>\n",
       "    <tr style=\"text-align: right;\">\n",
       "      <th></th>\n",
       "      <th>Time</th>\n",
       "      <th>GMSL</th>\n",
       "      <th>GMSL Uncertainty</th>\n",
       "      <th>Year</th>\n",
       "      <th>Test</th>\n",
       "    </tr>\n",
       "  </thead>\n",
       "  <tbody>\n",
       "    <tr>\n",
       "      <th>0</th>\n",
       "      <td>1880-01-15</td>\n",
       "      <td>-183.0</td>\n",
       "      <td>24.2</td>\n",
       "      <td>1880</td>\n",
       "      <td>686305</td>\n",
       "    </tr>\n",
       "    <tr>\n",
       "      <th>1</th>\n",
       "      <td>1880-02-15</td>\n",
       "      <td>-171.1</td>\n",
       "      <td>24.2</td>\n",
       "      <td>1880</td>\n",
       "      <td>686336</td>\n",
       "    </tr>\n",
       "    <tr>\n",
       "      <th>2</th>\n",
       "      <td>1880-03-15</td>\n",
       "      <td>-164.3</td>\n",
       "      <td>24.2</td>\n",
       "      <td>1880</td>\n",
       "      <td>686365</td>\n",
       "    </tr>\n",
       "    <tr>\n",
       "      <th>3</th>\n",
       "      <td>1880-04-15</td>\n",
       "      <td>-158.2</td>\n",
       "      <td>24.2</td>\n",
       "      <td>1880</td>\n",
       "      <td>686396</td>\n",
       "    </tr>\n",
       "    <tr>\n",
       "      <th>4</th>\n",
       "      <td>1880-05-15</td>\n",
       "      <td>-158.7</td>\n",
       "      <td>24.2</td>\n",
       "      <td>1880</td>\n",
       "      <td>686426</td>\n",
       "    </tr>\n",
       "    <tr>\n",
       "      <th>...</th>\n",
       "      <td>...</td>\n",
       "      <td>...</td>\n",
       "      <td>...</td>\n",
       "      <td>...</td>\n",
       "      <td>...</td>\n",
       "    </tr>\n",
       "    <tr>\n",
       "      <th>995</th>\n",
       "      <td>1962-12-15</td>\n",
       "      <td>-41.7</td>\n",
       "      <td>6.7</td>\n",
       "      <td>1962</td>\n",
       "      <td>716589</td>\n",
       "    </tr>\n",
       "    <tr>\n",
       "      <th>996</th>\n",
       "      <td>1963-01-15</td>\n",
       "      <td>-40.5</td>\n",
       "      <td>6.6</td>\n",
       "      <td>1963</td>\n",
       "      <td>716620</td>\n",
       "    </tr>\n",
       "    <tr>\n",
       "      <th>997</th>\n",
       "      <td>1963-02-15</td>\n",
       "      <td>-40.7</td>\n",
       "      <td>6.6</td>\n",
       "      <td>1963</td>\n",
       "      <td>716651</td>\n",
       "    </tr>\n",
       "    <tr>\n",
       "      <th>998</th>\n",
       "      <td>1963-03-15</td>\n",
       "      <td>-40.8</td>\n",
       "      <td>6.6</td>\n",
       "      <td>1963</td>\n",
       "      <td>716679</td>\n",
       "    </tr>\n",
       "    <tr>\n",
       "      <th>999</th>\n",
       "      <td>1963-04-15</td>\n",
       "      <td>-42.8</td>\n",
       "      <td>6.6</td>\n",
       "      <td>1963</td>\n",
       "      <td>716710</td>\n",
       "    </tr>\n",
       "  </tbody>\n",
       "</table>\n",
       "<p>1000 rows × 5 columns</p>\n",
       "</div>"
      ],
      "text/plain": [
       "          Time   GMSL  GMSL Uncertainty  Year    Test\n",
       "0   1880-01-15 -183.0              24.2  1880  686305\n",
       "1   1880-02-15 -171.1              24.2  1880  686336\n",
       "2   1880-03-15 -164.3              24.2  1880  686365\n",
       "3   1880-04-15 -158.2              24.2  1880  686396\n",
       "4   1880-05-15 -158.7              24.2  1880  686426\n",
       "..         ...    ...               ...   ...     ...\n",
       "995 1962-12-15  -41.7               6.7  1962  716589\n",
       "996 1963-01-15  -40.5               6.6  1963  716620\n",
       "997 1963-02-15  -40.7               6.6  1963  716651\n",
       "998 1963-03-15  -40.8               6.6  1963  716679\n",
       "999 1963-04-15  -42.8               6.6  1963  716710\n",
       "\n",
       "[1000 rows x 5 columns]"
      ]
     },
     "execution_count": 349,
     "metadata": {},
     "output_type": "execute_result"
    }
   ],
   "source": [
    "data"
   ]
  },
  {
   "cell_type": "code",
   "execution_count": 350,
   "id": "2d9b1278",
   "metadata": {},
   "outputs": [
    {
     "name": "stdout",
     "output_type": "stream",
     "text": [
      "<class 'pandas.core.frame.DataFrame'>\n",
      "RangeIndex: 1000 entries, 0 to 999\n",
      "Data columns (total 5 columns):\n",
      " #   Column            Non-Null Count  Dtype         \n",
      "---  ------            --------------  -----         \n",
      " 0   Time              1000 non-null   datetime64[ns]\n",
      " 1   GMSL              1000 non-null   float64       \n",
      " 2   GMSL Uncertainty  1000 non-null   float64       \n",
      " 3   Year              1000 non-null   int64         \n",
      " 4   Test              1000 non-null   int64         \n",
      "dtypes: datetime64[ns](1), float64(2), int64(2)\n",
      "memory usage: 39.2 KB\n"
     ]
    }
   ],
   "source": [
    "data.info()"
   ]
  },
  {
   "cell_type": "code",
   "execution_count": 233,
   "id": "4fa7c10a",
   "metadata": {},
   "outputs": [],
   "source": [
    "year_2000 = ['1/15/2000', '2/15/2000', '3/15/2000',\n",
    "             '4/15/2000' , '5/15/2000' , '6/15/2000' , \n",
    "             '7/15/2000' , '8/15/2000', ' 9/15/2000' ,\n",
    "             '10/15/2000' , '11/15/2000' , '12/15/2000']"
   ]
  },
  {
   "cell_type": "code",
   "execution_count": 250,
   "id": "4e30541b",
   "metadata": {},
   "outputs": [],
   "source": [
    "test = pd.to_datetime(year_2000)"
   ]
  },
  {
   "cell_type": "code",
   "execution_count": 253,
   "id": "0df7853d",
   "metadata": {},
   "outputs": [],
   "source": [
    "test = pd.DataFrame(year_2000)"
   ]
  },
  {
   "cell_type": "code",
   "execution_count": 254,
   "id": "823633f3",
   "metadata": {},
   "outputs": [],
   "source": [
    "test['time'] = test[0]"
   ]
  },
  {
   "cell_type": "code",
   "execution_count": 263,
   "id": "465b1a08",
   "metadata": {},
   "outputs": [],
   "source": [
    "test = test.drop(0, axis = 1)"
   ]
  },
  {
   "cell_type": "code",
   "execution_count": 271,
   "id": "488c178c",
   "metadata": {},
   "outputs": [],
   "source": [
    "year_2000 = [[730134,730165,730194,730225,730255,730286,730316,730347,730378,730408,730439,730469]]"
   ]
  },
  {
   "cell_type": "code",
   "execution_count": null,
   "id": "465cb4c6",
   "metadata": {},
   "outputs": [],
   "source": []
  },
  {
   "cell_type": "markdown",
   "id": "03a29dc1",
   "metadata": {},
   "source": [
    "# use linear regression algo"
   ]
  },
  {
   "cell_type": "code",
   "execution_count": 89,
   "id": "3c8dc576",
   "metadata": {},
   "outputs": [],
   "source": [
    "from sklearn import linear_model"
   ]
  },
  {
   "cell_type": "code",
   "execution_count": 107,
   "id": "93b18a10",
   "metadata": {},
   "outputs": [],
   "source": [
    "from sklearn.model_selection import train_test_split"
   ]
  },
  {
   "cell_type": "code",
   "execution_count": 108,
   "id": "f278aa51",
   "metadata": {},
   "outputs": [],
   "source": [
    "x = df['Test']\n",
    "y = df['GMSL']"
   ]
  },
  {
   "cell_type": "code",
   "execution_count": 115,
   "id": "fe22a04d",
   "metadata": {},
   "outputs": [],
   "source": [
    "x_train, x_test, y_train, y_test = train_test_split(x, y, test_size = 0.2, random_state = 50)          \n",
    "#(X,y,train_size=.7,random_state=42)"
   ]
  },
  {
   "cell_type": "code",
   "execution_count": 137,
   "id": "bb30b5c7",
   "metadata": {},
   "outputs": [],
   "source": [
    "y_train = y_train.values.reshape(1, -1)\n",
    "y_test = y_test.values.reshape(1, -1)\n"
   ]
  },
  {
   "cell_type": "code",
   "execution_count": 140,
   "id": "d59697c6",
   "metadata": {},
   "outputs": [],
   "source": [
    "classifier = linear_model.LinearRegression()"
   ]
  },
  {
   "cell_type": "code",
   "execution_count": 143,
   "id": "f0cd6dba",
   "metadata": {
    "scrolled": true
   },
   "outputs": [
    {
     "data": {
      "text/plain": [
       "LinearRegression()"
      ]
     },
     "execution_count": 143,
     "metadata": {},
     "output_type": "execute_result"
    }
   ],
   "source": [
    "classifier.fit(df[['Test']], df[['GMSL']])"
   ]
  },
  {
   "cell_type": "markdown",
   "id": "24d1c322",
   "metadata": {},
   "source": [
    "# calculate the slope and y intercept"
   ]
  },
  {
   "cell_type": "code",
   "execution_count": 151,
   "id": "6a75a4d5",
   "metadata": {},
   "outputs": [
    {
     "data": {
      "text/plain": [
       "array([[0.00365254]])"
      ]
     },
     "execution_count": 151,
     "metadata": {},
     "output_type": "execute_result"
    }
   ],
   "source": [
    "# slope\n",
    "classifier.coef_"
   ]
  },
  {
   "cell_type": "code",
   "execution_count": 320,
   "id": "3f812de9",
   "metadata": {},
   "outputs": [
    {
     "data": {
      "text/plain": [
       "array([-2669.82029976])"
      ]
     },
     "execution_count": 320,
     "metadata": {},
     "output_type": "execute_result"
    }
   ],
   "source": [
    "# intercept\n",
    "classifier.intercept_"
   ]
  },
  {
   "cell_type": "code",
   "execution_count": 324,
   "id": "b5da3301",
   "metadata": {},
   "outputs": [],
   "source": [
    "#we firstly converted year 2000 to int64\n",
    "year_2000 = {'Year 2000':[730134,730165,730194,730225,730255,730286,730316,730347,730378,730408,730439,730469]}"
   ]
  },
  {
   "cell_type": "code",
   "execution_count": 325,
   "id": "30fd21ec",
   "metadata": {},
   "outputs": [
    {
     "data": {
      "text/html": [
       "<div>\n",
       "<style scoped>\n",
       "    .dataframe tbody tr th:only-of-type {\n",
       "        vertical-align: middle;\n",
       "    }\n",
       "\n",
       "    .dataframe tbody tr th {\n",
       "        vertical-align: top;\n",
       "    }\n",
       "\n",
       "    .dataframe thead th {\n",
       "        text-align: right;\n",
       "    }\n",
       "</style>\n",
       "<table border=\"1\" class=\"dataframe\">\n",
       "  <thead>\n",
       "    <tr style=\"text-align: right;\">\n",
       "      <th></th>\n",
       "      <th>Year 2000</th>\n",
       "    </tr>\n",
       "  </thead>\n",
       "  <tbody>\n",
       "    <tr>\n",
       "      <th>0</th>\n",
       "      <td>730134</td>\n",
       "    </tr>\n",
       "    <tr>\n",
       "      <th>1</th>\n",
       "      <td>730165</td>\n",
       "    </tr>\n",
       "    <tr>\n",
       "      <th>2</th>\n",
       "      <td>730194</td>\n",
       "    </tr>\n",
       "    <tr>\n",
       "      <th>3</th>\n",
       "      <td>730225</td>\n",
       "    </tr>\n",
       "    <tr>\n",
       "      <th>4</th>\n",
       "      <td>730255</td>\n",
       "    </tr>\n",
       "    <tr>\n",
       "      <th>5</th>\n",
       "      <td>730286</td>\n",
       "    </tr>\n",
       "    <tr>\n",
       "      <th>6</th>\n",
       "      <td>730316</td>\n",
       "    </tr>\n",
       "    <tr>\n",
       "      <th>7</th>\n",
       "      <td>730347</td>\n",
       "    </tr>\n",
       "    <tr>\n",
       "      <th>8</th>\n",
       "      <td>730378</td>\n",
       "    </tr>\n",
       "    <tr>\n",
       "      <th>9</th>\n",
       "      <td>730408</td>\n",
       "    </tr>\n",
       "    <tr>\n",
       "      <th>10</th>\n",
       "      <td>730439</td>\n",
       "    </tr>\n",
       "    <tr>\n",
       "      <th>11</th>\n",
       "      <td>730469</td>\n",
       "    </tr>\n",
       "  </tbody>\n",
       "</table>\n",
       "</div>"
      ],
      "text/plain": [
       "    Year 2000\n",
       "0      730134\n",
       "1      730165\n",
       "2      730194\n",
       "3      730225\n",
       "4      730255\n",
       "5      730286\n",
       "6      730316\n",
       "7      730347\n",
       "8      730378\n",
       "9      730408\n",
       "10     730439\n",
       "11     730469"
      ]
     },
     "execution_count": 325,
     "metadata": {},
     "output_type": "execute_result"
    }
   ],
   "source": [
    "x_test = pd.DataFrame(year_2000)\n",
    "x_test"
   ]
  },
  {
   "cell_type": "code",
   "execution_count": 327,
   "id": "29324cea",
   "metadata": {},
   "outputs": [
    {
     "data": {
      "text/plain": [
       "array([[-2.97492778],\n",
       "       [-2.86169897],\n",
       "       [-2.75577524],\n",
       "       [-2.64254643],\n",
       "       [-2.53297015],\n",
       "       [-2.41974134],\n",
       "       [-2.31016507],\n",
       "       [-2.19693626],\n",
       "       [-2.08370744],\n",
       "       [-1.97413117],\n",
       "       [-1.86090236],\n",
       "       [-1.75132609]])"
      ]
     },
     "execution_count": 327,
     "metadata": {},
     "output_type": "execute_result"
    }
   ],
   "source": [
    "y_predict = classifier.predict(x_test)\n",
    "y_predict"
   ]
  },
  {
   "cell_type": "markdown",
   "id": "e92782fc",
   "metadata": {},
   "source": [
    "# calculate the slope and y intercept"
   ]
  },
  {
   "cell_type": "code",
   "execution_count": null,
   "id": "4d987656",
   "metadata": {},
   "outputs": [],
   "source": [
    "y = a*x + b"
   ]
  },
  {
   "cell_type": "code",
   "execution_count": 363,
   "id": "82f03d17",
   "metadata": {},
   "outputs": [
    {
     "data": {
      "image/png": "[encoded data removed]",
      "text/plain": [
       "<Figure size 432x288 with 1 Axes>"
      ]
     },
     "metadata": {
      "needs_background": "light"
     },
     "output_type": "display_data"
    }
   ],
   "source": [
    "%matplotlib inline\n",
    "plt.title('Rise in Sea Level', fontsize = 25)\n",
    "plt.xlabel('Year', fontsize=18)\n",
    "plt.ylabel('Sea Level (inches)', fontsize = 18)\n",
    "plt.scatter(data['Test'],data['GMSL'], color = 'blue',marker = '+')\n",
    "plt.plot(x_test,y_predict, color = 'red')\n",
    "plt.plot(x_test, a*x+b)   \n",
    "plt.show()"
   ]
  }
 ],
 "metadata": {
  "kernelspec": {
   "display_name": "Python 3",
   "language": "python",
   "name": "python3"
  },
  "language_info": {
   "codemirror_mode": {
    "name": "ipython",
    "version": 3
   },
   "file_extension": ".py",
   "mimetype": "text/x-python",
   "name": "python",
   "nbconvert_exporter": "python",
   "pygments_lexer": "ipython3",
   "version": "3.8.8"
  }
 },
 "nbformat": 4,
 "nbformat_minor": 5
}
